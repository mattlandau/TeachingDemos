{
 "cells": [
  {
   "cell_type": "markdown",
   "id": "1001ceb8-ee3a-4a86-b16a-9727bdf995e8",
   "metadata": {},
   "source": [
    "# Control Structures in Python -- Teaching Demo\n",
    "\n",
    "\n",
    "<img src=\"https://i.ibb.co/KLcySNK/continue-straight.jpg\" width=200 /> <img src=\"https://i.ibb.co/7QT2CV7/crossroads-sign.gif\" width=200 /> <img src=\"https://i.ibb.co/287YjjV/traffic-circle.jpg\" width=200/>"
   ]
  },
  {
   "cell_type": "markdown",
   "id": "b0370db5-cb26-42e2-b630-6b3d8872f301",
   "metadata": {},
   "source": [
    "## Sequential Execution"
   ]
  },
  {
   "cell_type": "code",
   "execution_count": null,
   "id": "c129504f-e7a1-4d3c-904b-834d20d0e030",
   "metadata": {},
   "outputs": [],
   "source": [
    "location = \"home\"\n",
    "print(\"My location is\", location)\n",
    "location = \"the grocery store\"\n",
    "print(\"My location is now\", location)"
   ]
  },
  {
   "cell_type": "markdown",
   "id": "a5ca4851-9771-4631-bc57-9c36684b1f43",
   "metadata": {
    "jp-MarkdownHeadingCollapsed": true
   },
   "source": [
    "#### *How would we update our location to be at \"the gas station\"?*"
   ]
  },
  {
   "cell_type": "code",
   "execution_count": null,
   "id": "2d9ff5d6-40f5-41cf-a774-5a16c34ad9d0",
   "metadata": {},
   "outputs": [],
   "source": [
    "location ="
   ]
  },
  {
   "cell_type": "markdown",
   "id": "614a9cac-d966-4613-86a3-7c82704270fb",
   "metadata": {},
   "source": [
    "## Conditional Branching (version 1)"
   ]
  },
  {
   "cell_type": "code",
   "execution_count": null,
   "id": "ca839111-a016-41b7-a655-89ec6d648baf",
   "metadata": {},
   "outputs": [],
   "source": [
    "if location == \"the grocery store\":\n",
    "    print(\"We're at the grocery store\")\n",
    "else:\n",
    "    print(\"We're not at the grocery store\")\n"
   ]
  },
  {
   "cell_type": "code",
   "execution_count": null,
   "id": "251fac04-ce34-4f0f-a587-22fc18ae2693",
   "metadata": {},
   "outputs": [],
   "source": [
    "if location == \"the grocery store\":\n",
    "    print(\"We're at the grocery store\")\n",
    "elif location == \"home\":   # Note, elif is the words \"else\" and \"if\" combined\n",
    "    print(\"We're at home\")\n",
    "else:\n",
    "    print(\"We're somewhere else... Specifically, we're at\", location)"
   ]
  },
  {
   "cell_type": "markdown",
   "id": "0b58e2a9-0cde-4951-8824-2acd52c453ee",
   "metadata": {},
   "source": [
    "#### *How could add another condition to check if our location is \"the doctor's office\"?*"
   ]
  },
  {
   "cell_type": "code",
   "execution_count": null,
   "id": "04187531-cefb-43e3-aea3-fe27af0598d7",
   "metadata": {},
   "outputs": [],
   "source": [
    "if location == \"the grocery store\":\n",
    "    print(\"We're at\", location)\n",
    "elif location == \"home\":\n",
    "    print(\"We're at\", location)\n",
    "#Note, we can add a condition here\n",
    "else:\n",
    "    print(\"We're somewhere else... Specifically, we're at\", location)"
   ]
  },
  {
   "cell_type": "markdown",
   "id": "2a9ad253-bfec-4235-bf9b-b4f7fb5660a9",
   "metadata": {},
   "source": [
    "## Conditional Branching (version 2)"
   ]
  },
  {
   "cell_type": "code",
   "execution_count": null,
   "id": "c7164fca-a34b-44e1-a9fe-5ecb8645ec06",
   "metadata": {},
   "outputs": [],
   "source": [
    "next_direction = \"right\"\n",
    "\n",
    "if next_direction == \"left\":\n",
    "    print(\"Taking a left\")"
   ]
  },
  {
   "cell_type": "code",
   "execution_count": null,
   "id": "50d4db98-f273-4406-a6f9-bb3ec07b599e",
   "metadata": {},
   "outputs": [],
   "source": [
    "next_direction = \"left\"\n",
    "\n",
    "if next_direction == \"left\":\n",
    "    print(\"Taking a left\")\n",
    "else:\n",
    "    print(\"Not taking a left\")"
   ]
  },
  {
   "cell_type": "code",
   "execution_count": null,
   "id": "62d25024-b98c-40b9-a708-442e9a9c8a86",
   "metadata": {},
   "outputs": [],
   "source": [
    "next_direction = \"straight\"\n",
    "\n",
    "if next_direction == \"left\":\n",
    "    print(\"Taking a left\")\n",
    "elif next_direction == \"right\":  # Note, elif is the words \"else\" and \"if\" combined\n",
    "    print(\"Taking a right\")\n",
    "else:\n",
    "    print(\"Going straight\")"
   ]
  },
  {
   "cell_type": "markdown",
   "id": "570362ab-0468-47f4-929c-246c5e2cc095",
   "metadata": {},
   "source": [
    "### *How could we check for another condition, \"arrived at destination\"?*"
   ]
  },
  {
   "cell_type": "code",
   "execution_count": null,
   "id": "ca2f2d13-c563-470f-a136-b45677d7fe94",
   "metadata": {},
   "outputs": [],
   "source": [
    "next_direction = \"straight\"\n",
    "\n",
    "if next_direction == \"left\":\n",
    "    print(\"Taking a left\")\n",
    "elif next_direction == \"right\":  # Note, elif is the words \"else\" and \"if\" combined\n",
    "    print(\"Taking a right\")\n",
    "elif next_direction == \"arrived at destination\":\n",
    "    print(\"We've arrived!\")\n",
    "else:\n",
    "    print(\"Going straight\")"
   ]
  },
  {
   "attachments": {},
   "cell_type": "markdown",
   "id": "c6d86258-bb1e-44b2-9d07-c2085664d8ae",
   "metadata": {},
   "source": [
    "*Note: there are other conditional branching control structures, such as \"match / case\", \"try / except\", and the ternary operator*"
   ]
  },
  {
   "cell_type": "markdown",
   "id": "fafc4cf6-2d07-4c5e-a9c1-4ea47c2d75a3",
   "metadata": {},
   "source": [
    "## Looping"
   ]
  },
  {
   "cell_type": "markdown",
   "id": "72f426be-bd5b-48b6-8420-381fb8e658db",
   "metadata": {
    "jp-MarkdownHeadingCollapsed": true
   },
   "source": [
    "### While Loop"
   ]
  },
  {
   "cell_type": "code",
   "execution_count": null,
   "id": "31e7c87d-3b9b-4513-9c12-4f69cd22bafc",
   "metadata": {},
   "outputs": [],
   "source": [
    "gallonsPumped = 0\n",
    "\n",
    "while gallonsPumped < 10:\n",
    "    gallonsPumped = gallonsPumped + 1\n",
    "    print(\"We've now pumped\", gallonsPumped, \"gallons of gas\")\n",
    "\n",
    "print(\"We've reached our goal of pumping 10 gallons of gas\")"
   ]
  },
  {
   "cell_type": "markdown",
   "id": "46aa3e3e-2a19-45b3-b83c-61915aeaf297",
   "metadata": {},
   "source": [
    "### For Loop"
   ]
  },
  {
   "cell_type": "code",
   "execution_count": null,
   "id": "e034e91f-4c6a-438e-9114-344d086255fb",
   "metadata": {},
   "outputs": [],
   "source": [
    "groceryList = [\"cereal\", \"apples\", \"milk\", \"bread\"]\n",
    "\n",
    "for item in groceryList:\n",
    "    print(\"Got the\", item)\n",
    "\n",
    "print(\"We've gotten all of the items on our list\")"
   ]
  },
  {
   "cell_type": "markdown",
   "id": "27baa334-74e0-4186-9a5b-069a48eb7b1b",
   "metadata": {},
   "source": [
    "### *How could we count the number of times we run through the for loop?*"
   ]
  },
  {
   "cell_type": "code",
   "execution_count": null,
   "id": "8af13ceb-4322-48c9-8775-cf80e52e83b9",
   "metadata": {},
   "outputs": [],
   "source": [
    "groceryList = [\"cereal\", \"apples\", \"milk\", \"bread\"]\n",
    "counter = 0\n",
    "\n",
    "for item in groceryList:\n",
    "    print(\"Got the\", item)\n",
    "    counter = counter + 1\n",
    "\n",
    "print(\"We've gotten all of the items on our list\")\n",
    "print(\"We cycled the the loop this many times:\", counter)"
   ]
  },
  {
   "cell_type": "markdown",
   "id": "fb7dd010-724f-44d3-99ff-d1d55909d7d6",
   "metadata": {
    "jp-MarkdownHeadingCollapsed": true
   },
   "source": [
    "## Homework"
   ]
  },
  {
   "cell_type": "markdown",
   "id": "53f78e97-40b3-4d9c-9716-f3f4844262e4",
   "metadata": {},
   "source": [
    "### *Write a program that uses all of the control structures we've covered*"
   ]
  },
  {
   "cell_type": "code",
   "execution_count": null,
   "id": "b5f4e59e-1075-48b2-8f65-41808c9a0567",
   "metadata": {},
   "outputs": [],
   "source": []
  }
 ],
 "metadata": {
  "kernelspec": {
   "display_name": "Python 3 (ipykernel)",
   "language": "python",
   "name": "python3"
  },
  "language_info": {
   "codemirror_mode": {
    "name": "ipython",
    "version": 3
   },
   "file_extension": ".py",
   "mimetype": "text/x-python",
   "name": "python",
   "nbconvert_exporter": "python",
   "pygments_lexer": "ipython3",
   "version": "3.12.3"
  }
 },
 "nbformat": 4,
 "nbformat_minor": 5
}
